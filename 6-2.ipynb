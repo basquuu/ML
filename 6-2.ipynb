{
 "cells": [
  {
   "cell_type": "markdown",
   "id": "7688eee2-aad3-4494-a653-0edcf7d289c8",
   "metadata": {},
   "source": [
    "### 비지도 학습"
   ]
  },
  {
   "cell_type": "markdown",
   "id": "0de09a7e-2597-4715-8c15-81436de44f2b",
   "metadata": {},
   "source": [
    "#### 군집 알고리즘 "
   ]
  },
  {
   "cell_type": "code",
   "execution_count": null,
   "id": "05f25ca3-b6b2-4728-8c17-1c53d3d51870",
   "metadata": {},
   "outputs": [],
   "source": []
  }
 ],
 "metadata": {
  "kernelspec": {
   "display_name": "Python 3 (ipykernel)",
   "language": "python",
   "name": "python3"
  },
  "language_info": {
   "codemirror_mode": {
    "name": "ipython",
    "version": 3
   },
   "file_extension": ".py",
   "mimetype": "text/x-python",
   "name": "python",
   "nbconvert_exporter": "python",
   "pygments_lexer": "ipython3",
   "version": "3.9.2"
  }
 },
 "nbformat": 4,
 "nbformat_minor": 5
}
