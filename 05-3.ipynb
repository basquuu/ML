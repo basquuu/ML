{
 "cells": [
  {
   "cell_type": "markdown",
   "id": "33b944cc-c441-4fe0-82c8-dd253b8b26bc",
   "metadata": {},
   "source": [
    "### 앙상블"
   ]
  },
  {
   "cell_type": "code",
   "execution_count": 1,
   "id": "1b5ac262-b7d9-44de-b166-71b8152b1761",
   "metadata": {},
   "outputs": [],
   "source": [
    "import pandas as pd\n",
    "wine = pd.read_csv('http://bit.ly/wine_csv_data')"
   ]
  },
  {
   "cell_type": "code",
   "execution_count": 2,
   "id": "58ae735d-3be5-4192-9d6e-8930aed782b7",
   "metadata": {},
   "outputs": [],
   "source": [
    "data = wine[['alcohol','sugar','pH']]\n",
    "target = wine[['class']]"
   ]
  },
  {
   "cell_type": "code",
   "execution_count": 3,
   "id": "8f189df3-ce0a-4f04-a386-4fff193a471a",
   "metadata": {},
   "outputs": [],
   "source": [
    "from sklearn.model_selection import train_test_split\n",
    "\n",
    "X_train,X_test, y_train, y_test = train_test_split(data, target, random_state = 42)"
   ]
  },
  {
   "cell_type": "code",
   "execution_count": 5,
   "id": "2da27066-5e1f-4fed-a437-2657b80809b0",
   "metadata": {},
   "outputs": [],
   "source": [
    "from sklearn.model_selection import cross_validate\n",
    "from sklearn.ensemble import RandomForestClassifier"
   ]
  },
  {
   "cell_type": "code",
   "execution_count": 6,
   "id": "a03c08a8-d99c-4afe-bea1-52d0fcef253b",
   "metadata": {},
   "outputs": [],
   "source": [
    "rf = RandomForestClassifier(n_jobs = -1, random_state = 42)\n",
    "scores = cross_validate(rf, X_train, y_train, n_jobs=-1)"
   ]
  },
  {
   "cell_type": "code",
   "execution_count": 7,
   "id": "595a8d46-d1d3-49ae-8b01-7485c764f2a2",
   "metadata": {},
   "outputs": [
    {
     "data": {
      "text/plain": [
       "{'fit_time': array([0.54544187, 0.5689292 , 0.77190256, 0.50303721, 0.53043342]),\n",
       " 'score_time': array([0.07630253, 0.09285665, 0.04143667, 0.11982989, 0.05940366]),\n",
       " 'test_score': array([0.88      , 0.90051282, 0.90349076, 0.89014374, 0.88295688])}"
      ]
     },
     "execution_count": 7,
     "metadata": {},
     "output_type": "execute_result"
    }
   ],
   "source": [
    "scores"
   ]
  },
  {
   "cell_type": "code",
   "execution_count": 9,
   "id": "9b783ffd-2e0f-4d00-93b7-144933a0f9fb",
   "metadata": {},
   "outputs": [],
   "source": [
    "from sklearn.ensemble import ExtraTreesClassifier\n",
    "\n",
    "et = ExtraTreesClassifier(n_jobs=-1)\n",
    "scores = cross_validate(et, X_train, y_train,return_train_score = True, n_jobs=-1)"
   ]
  },
  {
   "cell_type": "code",
   "execution_count": 10,
   "id": "26f17fd2-e963-4965-99c3-7d93c16d0653",
   "metadata": {},
   "outputs": [
    {
     "data": {
      "text/plain": [
       "{'fit_time': array([0.54200315, 0.55947423, 0.55302286, 0.54472423, 0.56347823]),\n",
       " 'score_time': array([0.09267569, 0.11052847, 0.07525468, 0.07411385, 0.10126638]),\n",
       " 'test_score': array([0.88615385, 0.89025641, 0.90041068, 0.88809035, 0.87679671]),\n",
       " 'train_score': array([0.99743392, 0.99692071, 0.99846075, 0.99820421, 0.99820421])}"
      ]
     },
     "execution_count": 10,
     "metadata": {},
     "output_type": "execute_result"
    }
   ],
   "source": [
    "scores"
   ]
  },
  {
   "cell_type": "code",
   "execution_count": 11,
   "id": "099cbfde-75b9-4f48-82e9-a3c57b85fb7c",
   "metadata": {},
   "outputs": [],
   "source": [
    "from sklearn.ensemble import GradientBoostingClassifier\n",
    "\n",
    "gb = GradientBoostingClassifier()\n",
    "scores = cross_validate(gb, X_train, y_train,return_train_score = True, n_jobs=-1)"
   ]
  },
  {
   "cell_type": "code",
   "execution_count": 12,
   "id": "b0e78118-1a10-4b87-b1f4-79a5d80b6d9d",
   "metadata": {},
   "outputs": [
    {
     "data": {
      "text/plain": [
       "{'fit_time': array([0.74357224, 0.66734433, 0.68436074, 0.73378086, 0.75396752]),\n",
       " 'score_time': array([0.00645709, 0.00799942, 0.00775003, 0.00720477, 0.01420522]),\n",
       " 'test_score': array([0.86461538, 0.87794872, 0.88090349, 0.8613963 , 0.87268994]),\n",
       " 'train_score': array([0.89299461, 0.88555299, 0.88660852, 0.89276552, 0.88943048])}"
      ]
     },
     "execution_count": 12,
     "metadata": {},
     "output_type": "execute_result"
    }
   ],
   "source": [
    "scores"
   ]
  },
  {
   "cell_type": "code",
   "execution_count": null,
   "id": "9e86ea71-bb35-40aa-a03d-5145112f590c",
   "metadata": {},
   "outputs": [],
   "source": []
  },
  {
   "cell_type": "code",
   "execution_count": null,
   "id": "2155277b-a641-46ec-b14a-7c820377b9c2",
   "metadata": {},
   "outputs": [],
   "source": []
  }
 ],
 "metadata": {
  "kernelspec": {
   "display_name": "Python 3 (ipykernel)",
   "language": "python",
   "name": "python3"
  },
  "language_info": {
   "codemirror_mode": {
    "name": "ipython",
    "version": 3
   },
   "file_extension": ".py",
   "mimetype": "text/x-python",
   "name": "python",
   "nbconvert_exporter": "python",
   "pygments_lexer": "ipython3",
   "version": "3.9.2"
  }
 },
 "nbformat": 4,
 "nbformat_minor": 5
}
